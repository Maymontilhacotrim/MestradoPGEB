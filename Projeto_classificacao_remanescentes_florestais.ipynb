{
  "cells": [
    {
      "cell_type": "markdown",
      "metadata": {
        "id": "view-in-github",
        "colab_type": "text"
      },
      "source": [
        "<a href=\"https://colab.research.google.com/github/Maymontilhacotrim/MestradoPGEB/blob/main/Projeto_classificacao_remanescentes_florestais.ipynb\" target=\"_parent\"><img src=\"https://colab.research.google.com/assets/colab-badge.svg\" alt=\"Open In Colab\"/></a>"
      ]
    },
    {
      "cell_type": "markdown",
      "metadata": {
        "id": "A0HLlljnN1Gf"
      },
      "source": [
        "**Experimentos Machine Learning - Projeto de Classificação de Remanecentes Florestais**"
      ]
    },
    {
      "cell_type": "markdown",
      "metadata": {
        "id": "tse7uxxNOfCR"
      },
      "source": [
        "**Equipe:**\n",
        "\n",
        "Pesquisadora Mayara Montilha Cotrim\n",
        "\n",
        "Orientadora Profa. Cristiane Nunes\n",
        "\n",
        "Coorientador e autor Dr. Pedro Fernandes\n",
        "\n",
        "Colaborador do código Jairson Aberto Sami"
      ]
    },
    {
      "cell_type": "markdown",
      "metadata": {
        "id": "rewoyVx7Pdi6"
      },
      "source": [
        "**Carregando bibliotecas**"
      ]
    },
    {
      "cell_type": "code",
      "execution_count": null,
      "metadata": {
        "id": "4HuvSqqnObYE"
      },
      "outputs": [],
      "source": [
        "# instalar bibliotecas\n",
        "\n",
        "!pip install rasterio\n",
        "!pip install rioxarray\n",
        "!pip install -U scikit-learn\n",
        "!python -m pip show scikit-learn\n",
        "!python -m pip freeze\n",
        "!python -c \"import sklearn; sklearn.show_versions()\"\n",
        "!pip install geopandas\n",
        "\n",
        "\n",
        "# Limpar a saída da célula atual\n",
        "from IPython.display import clear_output\n",
        "clear_output()\n",
        "\n",
        "import os\n",
        "import sys\n",
        "import csv\n",
        "import time\n",
        "import glob\n",
        "import joblib\n",
        "import datetime\n",
        "import numpy as np\n",
        "import pandas as pd\n",
        "from pathlib import Path\n",
        "from pprint import pprint\n",
        "import geopandas as gpd\n",
        "import rasterio\n",
        "from rasterio.mask import mask\n",
        "from rasterio.crs import CRS\n",
        "import matplotlib.pyplot as plt\n",
        "import xarray as xr\n",
        "import rioxarray as rxr\n",
        "from sklearn.ensemble import RandomForestClassifier"
      ]
    },
    {
      "cell_type": "code",
      "execution_count": null,
      "metadata": {
        "id": "dn0djzMTOxJV"
      },
      "outputs": [],
      "source": [
        "from google.colab import drive\n",
        "drive.mount('/content/drive/')"
      ]
    },
    {
      "cell_type": "code",
      "execution_count": null,
      "metadata": {
        "id": "9IWC7oQSPxwS"
      },
      "outputs": [],
      "source": [
        "!dir"
      ]
    },
    {
      "cell_type": "markdown",
      "metadata": {
        "id": "0o5PStklPiXr"
      },
      "source": [
        "**Extrair valores dos pixels**"
      ]
    },
    {
      "cell_type": "code",
      "execution_count": null,
      "metadata": {
        "id": "JKIEQbYnPm06"
      },
      "outputs": [],
      "source": [
        "col = gpd.read_file('/content/drive/MyDrive/testclassifmay/AmostrasSemEucaliptoEconcertado.shp')\n",
        "tif = rxr.open_rasterio('/content/drive/MyDrive/testclassifmay/b8.tif')\n",
        "\n",
        "col.to_crs(tif.rio.crs)"
      ]
    },
    {
      "cell_type": "code",
      "execution_count": null,
      "metadata": {
        "id": "kbASbzrSRVBl"
      },
      "outputs": [],
      "source": [
        "print(col.crs)"
      ]
    },
    {
      "cell_type": "code",
      "execution_count": null,
      "metadata": {
        "id": "M7MmFm1aPt-G"
      },
      "outputs": [],
      "source": [
        "tif.rio.crs == col.crs"
      ]
    },
    {
      "cell_type": "code",
      "execution_count": null,
      "metadata": {
        "id": "onbfaRCKRZxr"
      },
      "outputs": [],
      "source": [
        "# Caminho dos arquivos .TIF\n",
        "path =  glob.glob('/content/drive/MyDrive/testclassifmay/*.tif')\n",
        "path"
      ]
    },
    {
      "cell_type": "code",
      "execution_count": null,
      "metadata": {
        "id": "-QkQ7WwORlI_"
      },
      "outputs": [],
      "source": [
        "# importar csv salvos na pasta data_drive\n",
        "\n",
        "b1 = pd.read_csv('/content/drive/MyDrive/testclassifmay/b1.csv')\n",
        "b2 = pd.read_csv('/content/drive/MyDrive/testclassifmay/b2.csv')\n",
        "b3 = pd.read_csv('/content/drive/MyDrive/testclassifmay/b3.csv')\n",
        "b4 = pd.read_csv('/content/drive/MyDrive/testclassifmay/b4.csv')\n",
        "b5 = pd.read_csv('/content/drive/MyDrive/testclassifmay/b5.csv')\n",
        "b6 = pd.read_csv('/content/drive/MyDrive/testclassifmay/b6.csv')\n",
        "b7 = pd.read_csv('/content/drive/MyDrive/testclassifmay/b7.csv')\n",
        "b8 = pd.read_csv('/content/drive/MyDrive/testclassifmay/b8.csv')\n",
        "b9 = pd.read_csv('/content/drive/MyDrive/testclassifmay/b9.csv')\n",
        "b10 = pd.read_csv('/content/drive/MyDrive/testclassifmay/b10.csv')\n",
        "b11 = pd.read_csv('/content/drive/MyDrive/testclassifmay/b11.csv')\n",
        "b12 = pd.read_csv('/content/drive/MyDrive/testclassifmay/b12.csv')\n",
        "\n",
        "# ler\n",
        "b1.head()"
      ]
    },
    {
      "cell_type": "code",
      "execution_count": null,
      "metadata": {
        "id": "kiq1Tb3TRpy4"
      },
      "outputs": [],
      "source": [
        "# renomerar as colunas de cada dataFrame\n",
        "b1 = b1.rename(columns={'0':'b1'})\n",
        "b2 = b2.rename(columns={'0':'b2'})\n",
        "b3 = b3.rename(columns={'0':'b3'})\n",
        "b4 = b4.rename(columns={'0':'b4'})\n",
        "b5 = b5.rename(columns={'0':'b5'})\n",
        "b6 = b6.rename(columns={'0':'b6'})\n",
        "b7 = b7.rename(columns={'0':'b7'})\n",
        "b8 = b8.rename(columns={'0':'b8'})\n",
        "b9 = b9.rename(columns={'0':'b9'})\n",
        "b10 = b10.rename(columns={'0':'b10'})\n",
        "b11 = b11.rename(columns={'0':'b11'})\n",
        "b12 = b12.rename(columns={'0':'b12'})"
      ]
    },
    {
      "cell_type": "code",
      "execution_count": null,
      "metadata": {
        "id": "nJZLf6-oR4gX"
      },
      "outputs": [],
      "source": [
        "# juntar o data frame em único arquivo\n",
        "df = pd.concat([b1, b2, b3, b4, b5, b6, b7, b8, b9, b10, b11, b12], axis=1)\n",
        "\n",
        "#ler\n",
        "df.head()"
      ]
    },
    {
      "cell_type": "code",
      "execution_count": null,
      "metadata": {
        "id": "NUVV2tIVR9BO"
      },
      "outputs": [],
      "source": [
        "# importar os pontos coletados\n",
        "coletas_pontos = gpd.read_file('/content/drive/MyDrive/testclassifmay/AmostrasSemEucaliptoEconcertado.shp')\n",
        "coletas_pontos.head()"
      ]
    },
    {
      "cell_type": "code",
      "execution_count": null,
      "metadata": {
        "id": "_leNpck6R_P9"
      },
      "outputs": [],
      "source": [
        "# importar os pontos coletados\n",
        "coletas_pontos = gpd.read_file('/content/drive/MyDrive/testclassifmay/AmostrasSemEucaliptoEconcertado.shp')\n",
        "coletas_pontos.head()"
      ]
    },
    {
      "cell_type": "code",
      "execution_count": null,
      "metadata": {
        "id": "Q-w_GtWcSDEd"
      },
      "outputs": [],
      "source": [
        "# Visualizar os pontos coletados\n",
        "fig, ax = plt.subplots(figsize=(8, 5))\n",
        "\n",
        "\n",
        "coletas_pontos.plot(column='VALUE', legend=True, ax=ax)\n",
        "ax.set_title('Mapa de Coletas de Pontos')\n",
        "\n",
        "plt.show()"
      ]
    },
    {
      "cell_type": "code",
      "execution_count": null,
      "metadata": {
        "id": "_vXS3obZSH4Q"
      },
      "outputs": [],
      "source": [
        "# extrair só as classes de pontos coletados\n",
        "concat = coletas_pontos[['VALUE']]\n",
        "concat.head()"
      ]
    },
    {
      "cell_type": "code",
      "execution_count": null,
      "metadata": {
        "id": "Skaf4TRLSVqO"
      },
      "outputs": [],
      "source": [
        "# juntar com dataFrame df em único arquvo csv dfs\n",
        "\n",
        "dfs = pd.concat([df, concat], axis=1)\n",
        "dfs.head()"
      ]
    },
    {
      "cell_type": "code",
      "execution_count": null,
      "metadata": {
        "id": "faqejdZFSeb8"
      },
      "outputs": [],
      "source": [
        "dfs.to_csv('/content/drive/MyDrive/testclassifmay/arquivo_final_csv')"
      ]
    },
    {
      "cell_type": "code",
      "execution_count": null,
      "metadata": {
        "id": "U3nkvzGXSftI"
      },
      "outputs": [],
      "source": [
        "dfs.info()"
      ]
    },
    {
      "cell_type": "code",
      "execution_count": null,
      "metadata": {
        "id": "8_HxmemJSjBo"
      },
      "outputs": [],
      "source": [
        "dfs.isna().sum()"
      ]
    },
    {
      "cell_type": "code",
      "execution_count": null,
      "metadata": {
        "id": "-A8VapkxTOro"
      },
      "outputs": [],
      "source": [
        "dfs.hist(figsize=(10, 6))"
      ]
    },
    {
      "cell_type": "code",
      "execution_count": null,
      "metadata": {
        "id": "RTNdYkD5SngI"
      },
      "outputs": [],
      "source": [
        "y = dfs['VALUE']\n",
        "X = dfs.drop(columns=['VALUE'])\n",
        "y.value_counts().plot(kind=\"bar\")\n",
        "plt.show()"
      ]
    },
    {
      "cell_type": "code",
      "execution_count": null,
      "metadata": {
        "id": "Ni6BKtoQTSy7"
      },
      "outputs": [],
      "source": [
        "dfs.loc[dfs['VALUE'] == 'afloramento', 'VALUE'] = 1\n",
        "dfs.loc[dfs['VALUE'] == 'campo', 'VALUE'] = 2\n",
        "dfs.loc[dfs['VALUE'] == 'Edificação', 'VALUE'] = 3\n",
        "dfs.loc[dfs['VALUE'] == 'FlorestaA', 'VALUE'] = 5\n",
        "dfs.loc[dfs['VALUE'] == 'FlorestaM', 'VALUE'] = 6\n",
        "dfs.loc[dfs['VALUE'] == 'FlorestaB', 'VALUE'] = 7\n",
        "dfs.loc[dfs['VALUE'] == 'Agua', 'VALUE'] = 8\n",
        "dfs.loc[dfs['VALUE'] == 'AreaUmida', 'VALUE'] = 9"
      ]
    },
    {
      "cell_type": "code",
      "execution_count": null,
      "metadata": {
        "id": "sta8dWH7Tepc"
      },
      "outputs": [],
      "source": [
        "dfs = dfs.dropna()\n",
        "dfs.head()"
      ]
    },
    {
      "cell_type": "markdown",
      "metadata": {
        "id": "6elMYbXmTkzr"
      },
      "source": [
        "**Machine Learning**"
      ]
    },
    {
      "cell_type": "code",
      "execution_count": null,
      "metadata": {
        "id": "4B1ElADxzsZi"
      },
      "outputs": [],
      "source": [
        "!pip install yellowbrick"
      ]
    },
    {
      "cell_type": "code",
      "execution_count": null,
      "metadata": {
        "id": "oVJ1A4xjTmaq"
      },
      "outputs": [],
      "source": [
        "from sklearn.model_selection import train_test_split\n",
        "from yellowbrick.classifier import ConfusionMatrix\n",
        "from sklearn.metrics import (\n",
        "    make_scorer, accuracy_score, balanced_accuracy_score, average_precision_score, brier_score_loss, f1_score,\n",
        "    log_loss, precision_score, recall_score, jaccard_score, roc_auc_score, classification_report, confusion_matrix,\n",
        "    roc_curve, precision_recall_curve, auc,\n",
        ")"
      ]
    },
    {
      "cell_type": "code",
      "execution_count": null,
      "metadata": {
        "id": "E4U42gp4Tp6Z"
      },
      "outputs": [],
      "source": [
        "# Separando o conjunto de dados em features (X) e variável alvo (y)\n",
        "\n",
        "X, y = dfs.drop(columns=['VALUE']), dfs['VALUE']\n",
        "X_train, X_test, y_train, y_test = train_test_split(X, y,\n",
        "                                                    test_size=0.3,\n",
        "                                                    random_state=42)"
      ]
    },
    {
      "cell_type": "code",
      "execution_count": null,
      "metadata": {
        "id": "1ENveFjbTvEw"
      },
      "outputs": [],
      "source": [
        "# Convertendo os conjuntos de treinamento e teste para tipos de dados específicos\n",
        "\n",
        "X_train = X_train.astype('float')\n",
        "X_test = X_test.astype('float')\n",
        "\n",
        "# Handle non-finite values in y_train before conversion\n",
        "#y_train = y_train.fillna(0).astype('int')  # Replace NaN with 0, then convert to int\n",
        "\n",
        "#y_test = y_test.astype('float')"
      ]
    },
    {
      "cell_type": "code",
      "execution_count": null,
      "metadata": {
        "id": "gupfm-iYTxQ9"
      },
      "outputs": [],
      "source": [
        "import matplotlib.pyplot as plt\n",
        "import seaborn as sns\n",
        "from sklearn.model_selection import train_test_split\n",
        "\n",
        "# Conte a quantidade de amostras por classe no conjunto de treinamento\n",
        "train_class_counts = y_train.value_counts()\n",
        "\n",
        "# Conte a quantidade de amostras por classe no conjunto de teste\n",
        "test_class_counts = y_test.value_counts()\n",
        "\n",
        "# Plote as contagens das classes\n",
        "fig, ax = plt.subplots(1, 2, figsize=(14, 5))\n",
        "\n",
        "# Plot para o conjunto de treinamento\n",
        "sns.barplot(x=train_class_counts.index, y=train_class_counts.values, ax=ax[0], palette=\"viridis\")\n",
        "ax[0].set_title('Quantidade de Amostras por Classe no Conjunto de Treinamento')\n",
        "ax[0].set_xlabel('Classe')\n",
        "ax[0].set_ylabel('Quantidade')\n",
        "\n",
        "# Plot para o conjunto de teste\n",
        "sns.barplot(x=test_class_counts.index, y=test_class_counts.values, ax=ax[1], palette=\"viridis\")\n",
        "ax[1].set_title('Quantidade de Amostras por Classe no Conjunto de Teste')\n",
        "ax[1].set_xlabel('Classe')\n",
        "ax[1].set_ylabel('Quantidade')\n",
        "\n",
        "plt.show()"
      ]
    },
    {
      "cell_type": "markdown",
      "metadata": {
        "id": "FUqOpjaGT5dj"
      },
      "source": [
        "## **Random Forest**"
      ]
    },
    {
      "cell_type": "markdown",
      "metadata": {
        "id": "JIwrqBO3UWFl"
      },
      "source": [
        "**RF sem balanceamento de classes**"
      ]
    },
    {
      "cell_type": "code",
      "execution_count": null,
      "metadata": {
        "id": "iR93p09PT-wf"
      },
      "outputs": [],
      "source": [
        "from sklearn.ensemble import RandomForestClassifier\n",
        "from sklearn.ensemble import RandomForestClassifier"
      ]
    },
    {
      "cell_type": "code",
      "execution_count": null,
      "metadata": {
        "id": "myWD9eH_T-tC"
      },
      "outputs": [],
      "source": [
        "random_forest_classifier = RandomForestClassifier(\n",
        "    n_estimators=100,          # Número de árvores na floresta (100 no exemplo)\n",
        "    min_samples_leaf=5,        # Número mínimo de amostras em uma folha da árvore\n",
        "    min_samples_split=2,       # Número mínimo de amostras necessárias para dividir um nó interno\n",
        "    random_state=42,           # Semente aleatória para reprodução dos resultados\n",
        "    max_depth=80,             # Profundidade máxima das árvores\n",
        ")\n"
      ]
    },
    {
      "cell_type": "code",
      "execution_count": null,
      "metadata": {
        "id": "w1oH8L5bT-qK"
      },
      "outputs": [],
      "source": [
        "random_forest_classifier.fit(X_train, y_train)"
      ]
    },
    {
      "cell_type": "code",
      "execution_count": null,
      "metadata": {
        "id": "30N1uwkjT-gu"
      },
      "outputs": [],
      "source": [
        "y_pred = random_forest_classifier.predict(X_test)\n",
        "print(y_pred)"
      ]
    },
    {
      "cell_type": "code",
      "execution_count": null,
      "metadata": {
        "id": "-a2s7B_eUNx9"
      },
      "outputs": [],
      "source": [
        "# Check if y_test contains NaN values\n",
        "print(np.isnan(y_test).any())\n",
        "\n",
        "# If it does, handle the missing values, for example by filling them:\n",
        "#y_test_filled = np.nan_to_num(y_test)  # Replace NaN with 0\n",
        "\n",
        "# Now calculate the accuracy:\n",
        "accuracy_random = accuracy_score(y_test, y_pred)\n",
        "print(accuracy_random)"
      ]
    },
    {
      "cell_type": "code",
      "execution_count": null,
      "metadata": {
        "id": "aGrvJhwTV_rF"
      },
      "outputs": [],
      "source": [
        "cm = ConfusionMatrix(random_forest_classifier)\n",
        "cm.fit(X_train, y_train)\n",
        "cm.score(X_test,y_test)"
      ]
    },
    {
      "cell_type": "code",
      "execution_count": null,
      "metadata": {
        "id": "WKEHJI0oz_jl"
      },
      "outputs": [],
      "source": [
        "!pip install imbalanced-learn\n"
      ]
    },
    {
      "cell_type": "code",
      "execution_count": null,
      "metadata": {
        "id": "c6i3ZlFBPL9p"
      },
      "outputs": [],
      "source": [
        "print(classification_report(y_test, y_pred))"
      ]
    },
    {
      "cell_type": "markdown",
      "metadata": {
        "id": "hJDCU8TKVMWI"
      },
      "source": [
        "**RF com balanceamento de classes**"
      ]
    },
    {
      "cell_type": "code",
      "execution_count": null,
      "metadata": {
        "id": "BJApGF_wUZNb"
      },
      "outputs": [],
      "source": [
        "import numpy as np\n",
        "import pandas as pd\n",
        "import matplotlib.pyplot as plt\n",
        "import seaborn as sns\n",
        "from sklearn.model_selection import train_test_split\n",
        "from imblearn.over_sampling import SMOTE\n",
        "from sklearn.ensemble import RandomForestClassifier\n",
        "from sklearn.metrics import accuracy_score\n",
        "\n",
        "# Verifique e substitua valores NaN em y\n",
        "#y = np.nan_to_num(y)  # Substituir NaN por 0 ou outro valor dependendo do contexto\n",
        "\n",
        "# Divida os dados em conjuntos de treinamento e teste\n",
        "X_train, X_test, y_train, y_test = train_test_split(X, y, test_size=0.3, random_state=42, stratify=y)\n",
        "\n",
        "# Plot quantidade de amostras por classe antes do SMOTE\n",
        "fig, ax = plt.subplots(1, 2, figsize=(14, 5))\n",
        "\n",
        "sns.countplot(x=y_train, ax=ax[0], palette=\"viridis\")\n",
        "ax[0].set_title('Quantidade de Amostras por Classe no Conjunto de Treinamento Antes do SMOTE')\n",
        "ax[0].set_xlabel('Classe')\n",
        "ax[0].set_ylabel('Quantidade')\n",
        "\n",
        "sns.countplot(x=y_test, ax=ax[1], palette=\"viridis\")\n",
        "ax[1].set_title('Quantidade de Amostras por Classe no Conjunto de Teste')\n",
        "ax[1].set_xlabel('Classe')\n",
        "ax[1].set_ylabel('Quantidade')\n",
        "\n",
        "plt.show()\n",
        "\n",
        "# Aplicar o SMOTE para balancear as classes no conjunto de treinamento\n",
        "smote = SMOTE(random_state=42, sampling_strategy='auto')\n",
        "X_train_resampled, y_train_resampled = smote.fit_resample(X_train, y_train)\n",
        "\n",
        "# Plot quantidade de amostras por classe depois do SMOTE\n",
        "plt.figure(figsize=(7, 5))\n",
        "sns.countplot(x=y_train_resampled, palette=\"viridis\")\n",
        "plt.title('Quantidade de Amostras por Classe no Conjunto de Treinamento Depois do SMOTE')\n",
        "plt.xlabel('Classe')\n",
        "plt.ylabel('Quantidade')\n",
        "plt.show()\n",
        "\n",
        "# Treinamento do RandomForestClassifier\n",
        "random_forest_classifier = RandomForestClassifier(\n",
        "    n_estimators=100,          # Número de árvores na floresta\n",
        "    min_samples_leaf=5,        # Número mínimo de amostras em uma folha da árvore\n",
        "    min_samples_split=2,       # Número mínimo de amostras necessárias para dividir um nó interno\n",
        "    random_state=42,           # Semente aleatória para reprodução dos resultados\n",
        "    max_depth=80,              # Profundidade máxima das árvores\n",
        ")\n",
        "\n",
        "random_forest_classifier.fit(X_train_resampled, y_train_resampled)\n",
        "\n",
        "# Previsões no conjunto de teste\n",
        "y_pred = random_forest_classifier.predict(X_test)\n",
        "\n",
        "# Verificação de valores NaN em y_test\n",
        "print(np.isnan(y_test).any())\n",
        "\n",
        "# Se houver NaN, substitua por 0\n",
        "#y_test_filled = np.nan_to_num(y_test)  # Substituir NaN por 0\n",
        "\n",
        "# Cálculo da acurácia\n",
        "accuracy_random = accuracy_score(y_test, y_pred)\n",
        "print(\"Acurácia do Random Forest:\", accuracy_random)\n"
      ]
    },
    {
      "cell_type": "code",
      "execution_count": null,
      "metadata": {
        "id": "PEnTzSzmWHhw"
      },
      "outputs": [],
      "source": [
        "cm = ConfusionMatrix(random_forest_classifier)\n",
        "cm.fit(X_train_resampled, y_train_resampled)\n",
        "cm.score(X_train_resampled, y_train_resampled)"
      ]
    },
    {
      "cell_type": "markdown",
      "source": [
        "## **KNN**"
      ],
      "metadata": {
        "id": "Xsbakq3jpG7b"
      }
    },
    {
      "cell_type": "markdown",
      "metadata": {
        "id": "PLElS-8Glzyo"
      },
      "source": [
        "**KNN sem balanceamento**"
      ]
    },
    {
      "cell_type": "code",
      "execution_count": null,
      "metadata": {
        "id": "d4bRRDmKl1il"
      },
      "outputs": [],
      "source": [
        "from sklearn.neighbors import KNeighborsClassifier\n",
        "from sklearn.model_selection import train_test_split\n",
        "from sklearn.metrics import accuracy_score"
      ]
    },
    {
      "cell_type": "code",
      "execution_count": null,
      "metadata": {
        "id": "rQvpvDahl2IB"
      },
      "outputs": [],
      "source": [
        "# Criar uma instância do modelo KNN com um determinado número de vizinhos (n_neighbors)\n",
        "knn_classifier = KNeighborsClassifier(n_neighbors=3)"
      ]
    },
    {
      "cell_type": "code",
      "execution_count": null,
      "metadata": {
        "id": "iuzxtEedl2Fb"
      },
      "outputs": [],
      "source": [
        "# Treinar o modelo\n",
        "knn_classifier.fit(X_train, y_train)"
      ]
    },
    {
      "cell_type": "code",
      "execution_count": null,
      "metadata": {
        "id": "7qYoe-4kl2Cg"
      },
      "outputs": [],
      "source": [
        "# Fazer previsões no conjunto de teste\n",
        "y_pred = knn_classifier.predict(X_test)"
      ]
    },
    {
      "cell_type": "code",
      "execution_count": null,
      "metadata": {
        "id": "-Qkiwbuxl14A"
      },
      "outputs": [],
      "source": [
        "# Avaliar a precisão do modelo\n",
        "accuracy_knn = accuracy_score(y_test, y_pred)"
      ]
    },
    {
      "cell_type": "code",
      "execution_count": null,
      "metadata": {
        "id": "ZTYurojOmAS4"
      },
      "outputs": [],
      "source": [
        "print(f'Precisão do modelo KNN: {accuracy_knn}')"
      ]
    },
    {
      "cell_type": "code",
      "execution_count": null,
      "metadata": {
        "id": "mYHhgEVqmAG0"
      },
      "outputs": [],
      "source": [
        "cm = ConfusionMatrix(knn_classifier)\n",
        "cm.fit(X_train, y_train)\n",
        "cm.score(X_test,y_test)"
      ]
    },
    {
      "cell_type": "markdown",
      "metadata": {
        "id": "9Vct1XGbmX4s"
      },
      "source": [
        "**KNN com balanceamento**"
      ]
    },
    {
      "cell_type": "code",
      "execution_count": null,
      "metadata": {
        "id": "lKusz1IDmfkN"
      },
      "outputs": [],
      "source": [
        "import numpy as np\n",
        "import pandas as pd\n",
        "import matplotlib.pyplot as plt\n",
        "import seaborn as sns\n",
        "from sklearn.model_selection import train_test_split\n",
        "from imblearn.over_sampling import SMOTE\n",
        "from sklearn.ensemble import RandomForestClassifier\n",
        "from sklearn.metrics import accuracy_score\n",
        "\n",
        "# Verifique e substitua valores NaN em y\n",
        "#y = np.nan_to_num(y)  # Substituir NaN por 0 ou outro valor dependendo do contexto\n",
        "\n",
        "# Divida os dados em conjuntos de treinamento e teste\n",
        "X_train, X_test, y_train, y_test = train_test_split(X, y, test_size=0.3, random_state=42, stratify=y)\n",
        "\n",
        "# Plot quantidade de amostras por classe antes do SMOTE\n",
        "fig, ax = plt.subplots(1, 2, figsize=(14, 5))\n",
        "\n",
        "sns.countplot(x=y_train, ax=ax[0], palette=\"viridis\")\n",
        "ax[0].set_title('Quantidade de Amostras por Classe no Conjunto de Treinamento Antes do SMOTE')\n",
        "ax[0].set_xlabel('Classe')\n",
        "ax[0].set_ylabel('Quantidade')\n",
        "\n",
        "sns.countplot(x=y_test, ax=ax[1], palette=\"viridis\")\n",
        "ax[1].set_title('Quantidade de Amostras por Classe no Conjunto de Teste')\n",
        "ax[1].set_xlabel('Classe')\n",
        "ax[1].set_ylabel('Quantidade')\n",
        "\n",
        "plt.show()\n",
        "\n",
        "# Aplicar o SMOTE para balancear as classes no conjunto de treinamento\n",
        "smote = SMOTE(random_state=42, sampling_strategy='auto')\n",
        "X_train_resampled, y_train_resampled = smote.fit_resample(X_train, y_train)\n",
        "\n",
        "# Plot quantidade de amostras por classe depois do SMOTE\n",
        "plt.figure(figsize=(7, 5))\n",
        "sns.countplot(x=y_train_resampled, palette=\"viridis\")\n",
        "plt.title('Quantidade de Amostras por Classe no Conjunto de Treinamento Depois do SMOTE')\n",
        "plt.xlabel('Classe')\n",
        "plt.ylabel('Quantidade')\n",
        "plt.show()\n",
        "\n",
        "knn_classifier = KNeighborsClassifier(n_neighbors=3)\n",
        "knn_classifier.fit(X_train_resampled, y_train_resampled)\n",
        "\n",
        "# Previsões no conjunto de teste\n",
        "y_pred = knn_classifier.predict(X_test)\n",
        "\n",
        "# Verificação de valores NaN em y_test\n",
        "print(np.isnan(y_test).any())\n",
        "\n",
        "# Se houver NaN, substitua por 0\n",
        "#y_test_filled = np.nan_to_num(y_test)  # Substituir NaN por 0\n",
        "\n",
        "# Cálculo da acurácia\n",
        "accuracy_random = accuracy_score(y_test, y_pred)\n",
        "print(\"Acurácia do KNN:\", accuracy_random)\n"
      ]
    },
    {
      "cell_type": "markdown",
      "source": [
        "## **SVM**"
      ],
      "metadata": {
        "id": "G2XdAtGBpRl-"
      }
    },
    {
      "cell_type": "markdown",
      "metadata": {
        "id": "3POwnd2Lotez"
      },
      "source": [
        "SVM sem balanceamento"
      ]
    },
    {
      "cell_type": "code",
      "execution_count": null,
      "metadata": {
        "id": "kdol_81vmfgi"
      },
      "outputs": [],
      "source": [
        "from sklearn.svm import SVC\n",
        "from sklearn.model_selection import train_test_split\n",
        "from sklearn.metrics import accuracy_score\n",
        "\n",
        "# Criar uma instância do modelo SVM\n",
        "\n",
        "svm_classifier = SVC(kernel='linear',\n",
        "                     C=1.0,\n",
        "                     random_state=42)\n",
        "\n",
        "# Treinar o modelo\n",
        "svm_classifier.fit(X_train, y_train)\n",
        "\n",
        "# Fazer previsões no conjunto de teste\n",
        "y_pred = svm_classifier.predict(X_test)\n",
        "\n",
        "# Avaliar a precisão do modelo\n",
        "accuracy_svm = accuracy_score(y_test, y_pred)\n",
        "\n",
        "print(f'Precisão do modelo SVC: {accuracy_svm}')"
      ]
    },
    {
      "cell_type": "markdown",
      "metadata": {
        "id": "SbbOziu82uzJ"
      },
      "source": [
        "**SVM com balanceamento**"
      ]
    },
    {
      "cell_type": "code",
      "execution_count": null,
      "metadata": {
        "colab": {
          "background_save": true
        },
        "id": "ERdeeFLe2pvm"
      },
      "outputs": [],
      "source": [
        "import numpy as np\n",
        "import pandas as pd\n",
        "import matplotlib.pyplot as plt\n",
        "import seaborn as sns\n",
        "from sklearn.model_selection import train_test_split\n",
        "from imblearn.over_sampling import SMOTE\n",
        "from sklearn.ensemble import RandomForestClassifier\n",
        "from sklearn.metrics import accuracy_score\n",
        "\n",
        "# Verifique e substitua valores NaN em y\n",
        "#y = np.nan_to_num(y)  # Substituir NaN por 0 ou outro valor dependendo do contexto\n",
        "\n",
        "# Divida os dados em conjuntos de treinamento e teste\n",
        "X_train, X_test, y_train, y_test = train_test_split(X, y, test_size=0.3, random_state=42, stratify=y)\n",
        "\n",
        "# Plot quantidade de amostras por classe antes do SMOTE\n",
        "fig, ax = plt.subplots(1, 2, figsize=(14, 5))\n",
        "\n",
        "sns.countplot(x=y_train, ax=ax[0], palette=\"viridis\")\n",
        "ax[0].set_title('Quantidade de Amostras por Classe no Conjunto de Treinamento Antes do SMOTE')\n",
        "ax[0].set_xlabel('Classe')\n",
        "ax[0].set_ylabel('Quantidade')\n",
        "\n",
        "sns.countplot(x=y_test, ax=ax[1], palette=\"viridis\")\n",
        "ax[1].set_title('Quantidade de Amostras por Classe no Conjunto de Teste')\n",
        "ax[1].set_xlabel('Classe')\n",
        "ax[1].set_ylabel('Quantidade')\n",
        "\n",
        "plt.show()\n",
        "\n",
        "# Aplicar o SMOTE para balancear as classes no conjunto de treinamento\n",
        "smote = SMOTE(random_state=42, sampling_strategy='auto')\n",
        "X_train_resampled, y_train_resampled = smote.fit_resample(X_train, y_train)\n",
        "\n",
        "# Plot quantidade de amostras por classe depois do SMOTE\n",
        "plt.figure(figsize=(7, 5))\n",
        "sns.countplot(x=y_train_resampled, palette=\"viridis\")\n",
        "plt.title('Quantidade de Amostras por Classe no Conjunto de Treinamento Depois do SMOTE')\n",
        "plt.xlabel('Classe')\n",
        "plt.ylabel('Quantidade')\n",
        "plt.show()\n",
        "\n",
        "svm_classifier = SVC(kernel='linear',\n",
        "                     C=1.0,\n",
        "                     random_state=42)\n",
        "svm_classifier.fit(X_train_resampled, y_train_resampled)\n",
        "\n",
        "# Previsões no conjunto de teste\n",
        "y_pred = svm_classifier.predict(X_test)\n",
        "\n",
        "# Verificação de valores NaN em y_test\n",
        "print(np.isnan(y_test).any())\n",
        "\n",
        "# Se houver NaN, substitua por 0\n",
        "#y_test_filled = np.nan_to_num(y_test)  # Substituir NaN por 0\n",
        "\n",
        "# Cálculo da acurácia\n",
        "accuracy_random = accuracy_score(y_test, y_pred)\n",
        "print(\"Acurácia do KNN:\", accuracy_random)\n"
      ]
    },
    {
      "cell_type": "markdown",
      "source": [
        "## **Valores de cada ACCURACES**"
      ],
      "metadata": {
        "id": "XqToJ2y-9Wh4"
      }
    },
    {
      "cell_type": "markdown",
      "source": [
        "OBS: mudar accurance_mlp de acordo como está escrito no código"
      ],
      "metadata": {
        "id": "YdiN9rOO9pfe"
      }
    },
    {
      "cell_type": "code",
      "source": [
        "accuracy_random\n",
        "accuracy_svm\n",
        "accuracy_knn"
      ],
      "metadata": {
        "id": "qiuv5BSL97_k"
      },
      "execution_count": null,
      "outputs": []
    },
    {
      "cell_type": "code",
      "source": [
        "metrics_dict = {\n",
        "    'Random Forest': accuracy_random,\n",
        "    'SVM': accuracy_svm,\n",
        "}\n",
        "\n",
        "df_metrics = pd.DataFrame(list(metrics_dict.items()),\n",
        "                          columns=['Modelo', 'Métrica'])\n",
        "\n",
        "\n",
        "\n",
        "plt.bar(df_metrics['Modelo'], df_metrics['Métrica'], color=['blue', 'green', 'orange', 'red'])\n",
        "plt.title('Métricas dos Modelos')\n",
        "plt.ylabel('Valor da Métrica')\n",
        "plt.show()"
      ],
      "metadata": {
        "id": "kFQyXvj39_ZL"
      },
      "execution_count": null,
      "outputs": []
    },
    {
      "cell_type": "markdown",
      "source": [
        "## **Premutação**"
      ],
      "metadata": {
        "id": "9c1pX1Tl-Gzr"
      }
    },
    {
      "cell_type": "markdown",
      "source": [
        "**valor com maior importância que determina na classificação**"
      ],
      "metadata": {
        "id": "a4EySFV5pkZk"
      }
    },
    {
      "cell_type": "code",
      "source": [
        "from sklearn.inspection import permutation_importance\n",
        "permutation_importance_results = permutation_importance(random_forest_classifier,\n",
        "                                                        X=X_test,\n",
        "                                                        y=y_test,\n",
        "                                                        n_repeats=10,\n",
        "                                                        random_state=42)\n",
        "\n",
        "sorted_idx = permutation_importance_results.importances_mean.argsort()\n",
        "\n",
        "plt.figure(figsize=(4, 5))\n",
        "\n",
        "plt.barh(X_test.columns[sorted_idx], permutation_importance_results.importances_mean[sorted_idx])\n",
        "\n",
        "\n",
        "plt.xlabel(\"Permutation Importance, random_forest_classifier\")\n",
        "\n",
        "# Exibindo a figura\n",
        "plt.show()"
      ],
      "metadata": {
        "id": "51WPANnC-Ivq"
      },
      "execution_count": null,
      "outputs": []
    },
    {
      "cell_type": "code",
      "source": [
        "from sklearn.inspection import permutation_importance\n",
        "permutation_importance_results = permutation_importance(svm_classifier,\n",
        "                                                        X=X_test,\n",
        "                                                        y=y_test,\n",
        "                                                        n_repeats=10,\n",
        "                                                        random_state=42)\n",
        "\n",
        "sorted_idx = permutation_importance_results.importances_mean.argsort()\n",
        "\n",
        "plt.figure(figsize=(4, 5))\n",
        "\n",
        "plt.barh(X_test.columns[sorted_idx], permutation_importance_results.importances_mean[sorted_idx], color= 'yellow')\n",
        "\n",
        "\n",
        "plt.xlabel(\"Permutation Importance, svm_classifier\")\n",
        "\n",
        "# Exibindo a figura\n",
        "plt.show()"
      ],
      "metadata": {
        "id": "JW6larbe-Mh5"
      },
      "execution_count": null,
      "outputs": []
    },
    {
      "cell_type": "code",
      "source": [
        "from sklearn.inspection import permutation_importance\n",
        "permutation_importance_results = permutation_importance(knn_classifier,\n",
        "                                                        X=X_test,\n",
        "                                                        y=y_test,\n",
        "                                                        n_repeats=10,\n",
        "                                                        random_state=42)\n",
        "\n",
        "sorted_idx = permutation_importance_results.importances_mean.argsort()\n",
        "\n",
        "plt.figure(figsize=(4, 5))\n",
        "\n",
        "plt.barh(X_test.columns[sorted_idx], permutation_importance_results.importances_mean[sorted_idx], color='green')\n",
        "\n",
        "\n",
        "plt.xlabel(\"Permutation Importance, knn_classifier\")\n",
        "\n",
        "# Exibindo a figura\n",
        "plt.show()"
      ],
      "metadata": {
        "id": "JSWNDGS0-Up_"
      },
      "execution_count": null,
      "outputs": []
    }
  ],
  "metadata": {
    "accelerator": "GPU",
    "colab": {
      "gpuType": "T4",
      "provenance": [],
      "include_colab_link": true
    },
    "kernelspec": {
      "display_name": "Python 3",
      "name": "python3"
    },
    "language_info": {
      "name": "python"
    }
  },
  "nbformat": 4,
  "nbformat_minor": 0
}